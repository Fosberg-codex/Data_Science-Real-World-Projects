{
 "cells": [
  {
   "cell_type": "code",
   "execution_count": 2,
   "id": "60e8659a-f9da-44a3-9268-d9008202820e",
   "metadata": {},
   "outputs": [],
   "source": [
    "# importing libraries\n",
    "import pandas as pd\n",
    "import numpy as np\n",
    "import sklearn as sk\n",
    "from sklearn.linear_model import LinearRegression\n",
    "import matplotlib.pyplot as plt"
   ]
  },
  {
   "cell_type": "code",
   "execution_count": 8,
   "id": "e84c59c9-af60-4d3c-a31d-e4bdd38b398d",
   "metadata": {},
   "outputs": [],
   "source": [
    "# read the cleaned data\n",
    "data = pd.read_csv(\"Austin_rainfall.csv\")"
   ]
  },
  {
   "cell_type": "code",
   "execution_count": 9,
   "id": "9fcbf19f-8709-4ad6-a132-26a04d8bdf03",
   "metadata": {},
   "outputs": [
    {
     "data": {
      "text/html": [
       "<div>\n",
       "<style scoped>\n",
       "    .dataframe tbody tr th:only-of-type {\n",
       "        vertical-align: middle;\n",
       "    }\n",
       "\n",
       "    .dataframe tbody tr th {\n",
       "        vertical-align: top;\n",
       "    }\n",
       "\n",
       "    .dataframe thead th {\n",
       "        text-align: right;\n",
       "    }\n",
       "</style>\n",
       "<table border=\"1\" class=\"dataframe\">\n",
       "  <thead>\n",
       "    <tr style=\"text-align: right;\">\n",
       "      <th></th>\n",
       "      <th>Unnamed: 0</th>\n",
       "      <th>TempHighF</th>\n",
       "      <th>TempAvgF</th>\n",
       "      <th>TempLowF</th>\n",
       "      <th>DewPointHighF</th>\n",
       "      <th>DewPointAvgF</th>\n",
       "      <th>DewPointLowF</th>\n",
       "      <th>HumidityHighPercent</th>\n",
       "      <th>HumidityAvgPercent</th>\n",
       "      <th>HumidityLowPercent</th>\n",
       "      <th>SeaLevelPressureAvgInches</th>\n",
       "      <th>VisibilityHighMiles</th>\n",
       "      <th>VisibilityAvgMiles</th>\n",
       "      <th>VisibilityLowMiles</th>\n",
       "      <th>WindHighMPH</th>\n",
       "      <th>WindAvgMPH</th>\n",
       "      <th>WindGustMPH</th>\n",
       "      <th>PrecipitationSumInches</th>\n",
       "    </tr>\n",
       "  </thead>\n",
       "  <tbody>\n",
       "    <tr>\n",
       "      <th>0</th>\n",
       "      <td>0</td>\n",
       "      <td>74</td>\n",
       "      <td>60</td>\n",
       "      <td>45</td>\n",
       "      <td>67.0</td>\n",
       "      <td>49.0</td>\n",
       "      <td>43.0</td>\n",
       "      <td>93.0</td>\n",
       "      <td>75.0</td>\n",
       "      <td>57.0</td>\n",
       "      <td>29.68</td>\n",
       "      <td>10.0</td>\n",
       "      <td>7.0</td>\n",
       "      <td>2.0</td>\n",
       "      <td>20.0</td>\n",
       "      <td>4.0</td>\n",
       "      <td>31.0</td>\n",
       "      <td>0.46</td>\n",
       "    </tr>\n",
       "    <tr>\n",
       "      <th>1</th>\n",
       "      <td>1</td>\n",
       "      <td>56</td>\n",
       "      <td>48</td>\n",
       "      <td>39</td>\n",
       "      <td>43.0</td>\n",
       "      <td>36.0</td>\n",
       "      <td>28.0</td>\n",
       "      <td>93.0</td>\n",
       "      <td>68.0</td>\n",
       "      <td>43.0</td>\n",
       "      <td>30.13</td>\n",
       "      <td>10.0</td>\n",
       "      <td>10.0</td>\n",
       "      <td>5.0</td>\n",
       "      <td>16.0</td>\n",
       "      <td>6.0</td>\n",
       "      <td>25.0</td>\n",
       "      <td>0.00</td>\n",
       "    </tr>\n",
       "    <tr>\n",
       "      <th>2</th>\n",
       "      <td>2</td>\n",
       "      <td>58</td>\n",
       "      <td>45</td>\n",
       "      <td>32</td>\n",
       "      <td>31.0</td>\n",
       "      <td>27.0</td>\n",
       "      <td>23.0</td>\n",
       "      <td>76.0</td>\n",
       "      <td>52.0</td>\n",
       "      <td>27.0</td>\n",
       "      <td>30.49</td>\n",
       "      <td>10.0</td>\n",
       "      <td>10.0</td>\n",
       "      <td>10.0</td>\n",
       "      <td>8.0</td>\n",
       "      <td>3.0</td>\n",
       "      <td>12.0</td>\n",
       "      <td>0.00</td>\n",
       "    </tr>\n",
       "    <tr>\n",
       "      <th>3</th>\n",
       "      <td>3</td>\n",
       "      <td>61</td>\n",
       "      <td>46</td>\n",
       "      <td>31</td>\n",
       "      <td>36.0</td>\n",
       "      <td>28.0</td>\n",
       "      <td>21.0</td>\n",
       "      <td>89.0</td>\n",
       "      <td>56.0</td>\n",
       "      <td>22.0</td>\n",
       "      <td>30.45</td>\n",
       "      <td>10.0</td>\n",
       "      <td>10.0</td>\n",
       "      <td>7.0</td>\n",
       "      <td>12.0</td>\n",
       "      <td>4.0</td>\n",
       "      <td>20.0</td>\n",
       "      <td>0.00</td>\n",
       "    </tr>\n",
       "    <tr>\n",
       "      <th>4</th>\n",
       "      <td>4</td>\n",
       "      <td>58</td>\n",
       "      <td>50</td>\n",
       "      <td>41</td>\n",
       "      <td>44.0</td>\n",
       "      <td>40.0</td>\n",
       "      <td>36.0</td>\n",
       "      <td>86.0</td>\n",
       "      <td>71.0</td>\n",
       "      <td>56.0</td>\n",
       "      <td>30.33</td>\n",
       "      <td>10.0</td>\n",
       "      <td>10.0</td>\n",
       "      <td>7.0</td>\n",
       "      <td>10.0</td>\n",
       "      <td>2.0</td>\n",
       "      <td>16.0</td>\n",
       "      <td>0.00</td>\n",
       "    </tr>\n",
       "    <tr>\n",
       "      <th>...</th>\n",
       "      <td>...</td>\n",
       "      <td>...</td>\n",
       "      <td>...</td>\n",
       "      <td>...</td>\n",
       "      <td>...</td>\n",
       "      <td>...</td>\n",
       "      <td>...</td>\n",
       "      <td>...</td>\n",
       "      <td>...</td>\n",
       "      <td>...</td>\n",
       "      <td>...</td>\n",
       "      <td>...</td>\n",
       "      <td>...</td>\n",
       "      <td>...</td>\n",
       "      <td>...</td>\n",
       "      <td>...</td>\n",
       "      <td>...</td>\n",
       "      <td>...</td>\n",
       "    </tr>\n",
       "    <tr>\n",
       "      <th>1314</th>\n",
       "      <td>1314</td>\n",
       "      <td>103</td>\n",
       "      <td>89</td>\n",
       "      <td>75</td>\n",
       "      <td>71.0</td>\n",
       "      <td>67.0</td>\n",
       "      <td>61.0</td>\n",
       "      <td>82.0</td>\n",
       "      <td>54.0</td>\n",
       "      <td>25.0</td>\n",
       "      <td>29.97</td>\n",
       "      <td>10.0</td>\n",
       "      <td>10.0</td>\n",
       "      <td>10.0</td>\n",
       "      <td>12.0</td>\n",
       "      <td>5.0</td>\n",
       "      <td>21.0</td>\n",
       "      <td>0.00</td>\n",
       "    </tr>\n",
       "    <tr>\n",
       "      <th>1315</th>\n",
       "      <td>1315</td>\n",
       "      <td>105</td>\n",
       "      <td>91</td>\n",
       "      <td>76</td>\n",
       "      <td>71.0</td>\n",
       "      <td>64.0</td>\n",
       "      <td>55.0</td>\n",
       "      <td>87.0</td>\n",
       "      <td>54.0</td>\n",
       "      <td>20.0</td>\n",
       "      <td>29.90</td>\n",
       "      <td>10.0</td>\n",
       "      <td>10.0</td>\n",
       "      <td>10.0</td>\n",
       "      <td>14.0</td>\n",
       "      <td>5.0</td>\n",
       "      <td>20.0</td>\n",
       "      <td>0.00</td>\n",
       "    </tr>\n",
       "    <tr>\n",
       "      <th>1316</th>\n",
       "      <td>1316</td>\n",
       "      <td>107</td>\n",
       "      <td>92</td>\n",
       "      <td>77</td>\n",
       "      <td>72.0</td>\n",
       "      <td>64.0</td>\n",
       "      <td>55.0</td>\n",
       "      <td>82.0</td>\n",
       "      <td>51.0</td>\n",
       "      <td>19.0</td>\n",
       "      <td>29.86</td>\n",
       "      <td>10.0</td>\n",
       "      <td>10.0</td>\n",
       "      <td>10.0</td>\n",
       "      <td>12.0</td>\n",
       "      <td>4.0</td>\n",
       "      <td>17.0</td>\n",
       "      <td>0.00</td>\n",
       "    </tr>\n",
       "    <tr>\n",
       "      <th>1317</th>\n",
       "      <td>1317</td>\n",
       "      <td>106</td>\n",
       "      <td>93</td>\n",
       "      <td>79</td>\n",
       "      <td>70.0</td>\n",
       "      <td>68.0</td>\n",
       "      <td>63.0</td>\n",
       "      <td>69.0</td>\n",
       "      <td>48.0</td>\n",
       "      <td>27.0</td>\n",
       "      <td>29.91</td>\n",
       "      <td>10.0</td>\n",
       "      <td>10.0</td>\n",
       "      <td>10.0</td>\n",
       "      <td>13.0</td>\n",
       "      <td>4.0</td>\n",
       "      <td>20.0</td>\n",
       "      <td>0.00</td>\n",
       "    </tr>\n",
       "    <tr>\n",
       "      <th>1318</th>\n",
       "      <td>1318</td>\n",
       "      <td>99</td>\n",
       "      <td>88</td>\n",
       "      <td>77</td>\n",
       "      <td>66.0</td>\n",
       "      <td>61.0</td>\n",
       "      <td>54.0</td>\n",
       "      <td>64.0</td>\n",
       "      <td>43.0</td>\n",
       "      <td>22.0</td>\n",
       "      <td>29.97</td>\n",
       "      <td>10.0</td>\n",
       "      <td>10.0</td>\n",
       "      <td>10.0</td>\n",
       "      <td>12.0</td>\n",
       "      <td>4.0</td>\n",
       "      <td>20.0</td>\n",
       "      <td>0.00</td>\n",
       "    </tr>\n",
       "  </tbody>\n",
       "</table>\n",
       "<p>1319 rows × 18 columns</p>\n",
       "</div>"
      ],
      "text/plain": [
       "      Unnamed: 0  TempHighF  TempAvgF  TempLowF  DewPointHighF  DewPointAvgF  \\\n",
       "0              0         74        60        45           67.0          49.0   \n",
       "1              1         56        48        39           43.0          36.0   \n",
       "2              2         58        45        32           31.0          27.0   \n",
       "3              3         61        46        31           36.0          28.0   \n",
       "4              4         58        50        41           44.0          40.0   \n",
       "...          ...        ...       ...       ...            ...           ...   \n",
       "1314        1314        103        89        75           71.0          67.0   \n",
       "1315        1315        105        91        76           71.0          64.0   \n",
       "1316        1316        107        92        77           72.0          64.0   \n",
       "1317        1317        106        93        79           70.0          68.0   \n",
       "1318        1318         99        88        77           66.0          61.0   \n",
       "\n",
       "      DewPointLowF  HumidityHighPercent  HumidityAvgPercent  \\\n",
       "0             43.0                 93.0                75.0   \n",
       "1             28.0                 93.0                68.0   \n",
       "2             23.0                 76.0                52.0   \n",
       "3             21.0                 89.0                56.0   \n",
       "4             36.0                 86.0                71.0   \n",
       "...            ...                  ...                 ...   \n",
       "1314          61.0                 82.0                54.0   \n",
       "1315          55.0                 87.0                54.0   \n",
       "1316          55.0                 82.0                51.0   \n",
       "1317          63.0                 69.0                48.0   \n",
       "1318          54.0                 64.0                43.0   \n",
       "\n",
       "      HumidityLowPercent  SeaLevelPressureAvgInches  VisibilityHighMiles  \\\n",
       "0                   57.0                      29.68                 10.0   \n",
       "1                   43.0                      30.13                 10.0   \n",
       "2                   27.0                      30.49                 10.0   \n",
       "3                   22.0                      30.45                 10.0   \n",
       "4                   56.0                      30.33                 10.0   \n",
       "...                  ...                        ...                  ...   \n",
       "1314                25.0                      29.97                 10.0   \n",
       "1315                20.0                      29.90                 10.0   \n",
       "1316                19.0                      29.86                 10.0   \n",
       "1317                27.0                      29.91                 10.0   \n",
       "1318                22.0                      29.97                 10.0   \n",
       "\n",
       "      VisibilityAvgMiles  VisibilityLowMiles  WindHighMPH  WindAvgMPH  \\\n",
       "0                    7.0                 2.0         20.0         4.0   \n",
       "1                   10.0                 5.0         16.0         6.0   \n",
       "2                   10.0                10.0          8.0         3.0   \n",
       "3                   10.0                 7.0         12.0         4.0   \n",
       "4                   10.0                 7.0         10.0         2.0   \n",
       "...                  ...                 ...          ...         ...   \n",
       "1314                10.0                10.0         12.0         5.0   \n",
       "1315                10.0                10.0         14.0         5.0   \n",
       "1316                10.0                10.0         12.0         4.0   \n",
       "1317                10.0                10.0         13.0         4.0   \n",
       "1318                10.0                10.0         12.0         4.0   \n",
       "\n",
       "      WindGustMPH  PrecipitationSumInches  \n",
       "0            31.0                    0.46  \n",
       "1            25.0                    0.00  \n",
       "2            12.0                    0.00  \n",
       "3            20.0                    0.00  \n",
       "4            16.0                    0.00  \n",
       "...           ...                     ...  \n",
       "1314         21.0                    0.00  \n",
       "1315         20.0                    0.00  \n",
       "1316         17.0                    0.00  \n",
       "1317         20.0                    0.00  \n",
       "1318         20.0                    0.00  \n",
       "\n",
       "[1319 rows x 18 columns]"
      ]
     },
     "execution_count": 9,
     "metadata": {},
     "output_type": "execute_result"
    }
   ],
   "source": [
    "data"
   ]
  },
  {
   "cell_type": "code",
   "execution_count": 6,
   "id": "811d4fc8-9e28-42c5-91d9-31f83f8cafe1",
   "metadata": {},
   "outputs": [],
   "source": [
    "# the features or the 'x' values of the data\n",
    "# these columns are used to train the model\n",
    "# the last column, i.e, precipitation column \n",
    "# will serve as the label \n",
    "X = data.drop(['PrecipitationSumInches'], axis = 1)"
   ]
  },
  {
   "cell_type": "code",
   "execution_count": 7,
   "id": "6ce32604-04e4-4a1f-aac9-086603ad66df",
   "metadata": {},
   "outputs": [],
   "source": [
    "# the output or the label.\n",
    "Y = data['PrecipitationSumInches']\n",
    "# reshaping it into a 2-D vector\n",
    "Y = Y.values.reshape(-1, 1)"
   ]
  },
  {
   "cell_type": "code",
   "execution_count": 8,
   "id": "10b50b02-560b-4f3d-8845-eb7ba5a6defa",
   "metadata": {},
   "outputs": [],
   "source": [
    "# consider a random day in the dataset\n",
    "# we shall plot a graph and observe this\n",
    "# day\n",
    "day_index = 798\n",
    "days = [i for i in range(Y.size)]"
   ]
  },
  {
   "cell_type": "code",
   "execution_count": 9,
   "id": "aa6047b6-c375-4b52-b6fa-6f6932b6096a",
   "metadata": {},
   "outputs": [
    {
     "data": {
      "text/plain": [
       "LinearRegression()"
      ]
     },
     "execution_count": 9,
     "metadata": {},
     "output_type": "execute_result"
    }
   ],
   "source": [
    "# initialize a linear regression classifier\n",
    "clf = LinearRegression()\n",
    "# train the classifier with our \n",
    "# input data.\n",
    "clf.fit(X, Y)"
   ]
  },
  {
   "cell_type": "code",
   "execution_count": 10,
   "id": "58cc7dfd-9d06-4507-bb76-b00558f63e85",
   "metadata": {},
   "outputs": [],
   "source": [
    "# give a sample input to test our model\n",
    "# this is a 2-D vector that contains values\n",
    "# for each column in the dataset.\n",
    "inp = np.array([[74], [60], [45], [67], [49], [43], [33], [45],\n",
    "                [57], [29.68], [10], [7], [2], [0], [20], [4], [31]])\n",
    "inp = inp.reshape(1, -1)"
   ]
  },
  {
   "cell_type": "code",
   "execution_count": 11,
   "id": "e5bde275-5ad9-486a-b0c3-489d21a5d156",
   "metadata": {},
   "outputs": [
    {
     "name": "stdout",
     "output_type": "stream",
     "text": [
      "The precipitation in inches for the input is: [[1.33868402]]\n"
     ]
    }
   ],
   "source": [
    "print('The precipitation in inches for the input is:', clf.predict(inp))"
   ]
  },
  {
   "cell_type": "code",
   "execution_count": 12,
   "id": "33d8a9a7-a748-42d2-8e75-fe59a6d68978",
   "metadata": {},
   "outputs": [
    {
     "name": "stdout",
     "output_type": "stream",
     "text": [
      "the precipitation trend graph: \n"
     ]
    },
    {
     "data": {
      "text/plain": [
       "Text(0, 0.5, 'Precipitation in inches')"
      ]
     },
     "execution_count": 12,
     "metadata": {},
     "output_type": "execute_result"
    },
    {
     "data": {
      "image/png": "[encoded data removed]",
      "text/plain": [
       "<Figure size 432x288 with 1 Axes>"
      ]
     },
     "metadata": {
      "needs_background": "light"
     },
     "output_type": "display_data"
    }
   ],
   "source": [
    "# plot a graph of the precipitation levels\n",
    "# versus the total number of days.\n",
    "# one day, which is in red, is\n",
    "# tracked here. It has a precipitation\n",
    "# of approx. 2 inches.\n",
    "print(\"the precipitation trend graph: \")\n",
    "plt.scatter(days, Y, color = 'g')\n",
    "plt.scatter(days[day_index], Y[day_index], color ='r')\n",
    "plt.title(\"Precipitation level\")\n",
    "plt.xlabel(\"Days\")\n",
    "plt.ylabel(\"Precipitation in inches\")"
   ]
  },
  {
   "cell_type": "code",
   "execution_count": 14,
   "id": "3a0ee47d-e360-4214-b884-072f5a7ec2da",
   "metadata": {},
   "outputs": [
    {
     "name": "stdout",
     "output_type": "stream",
     "text": [
      "the precipitation trend graph: \n"
     ]
    },
    {
     "data": {
      "text/plain": [
       "Text(0, 0.5, 'Precipitation in inches')"
      ]
     },
     "execution_count": 14,
     "metadata": {},
     "output_type": "execute_result"
    },
    {
     "data": {
      "image/png": "[encoded data removed]",
      "text/plain": [
       "<Figure size 432x288 with 1 Axes>"
      ]
     },
     "metadata": {
      "needs_background": "light"
     },
     "output_type": "display_data"
    }
   ],
   "source": [
    "# plot a graph of the precipitation levels\n",
    "# versus the total number of days.\n",
    "# one day, which is in red, is\n",
    "# tracked here. It has a precipitation\n",
    "# of approx. 2 inches.\n",
    "print(\"the precipitation trend graph: \")\n",
    "plt.scatter(days, Y, color = 'b')\n",
    "plt.scatter(days[day_index], Y[day_index], color ='r')\n",
    "plt.title(\"Precipitation level\")\n",
    "plt.xlabel(\"Days\")\n",
    "plt.ylabel(\"Precipitation in inches\")"
   ]
  },
  {
   "cell_type": "code",
   "execution_count": 19,
   "id": "3055a8dd-7337-4fe9-8057-cba8c3248993",
   "metadata": {},
   "outputs": [
    {
     "name": "stdout",
     "output_type": "stream",
     "text": [
      "Precipitation vs selected attributes graph: \n"
     ]
    },
    {
     "data": {
      "image/png": "[encoded data removed]",
      "text/plain": [
       "<Figure size 432x288 with 6 Axes>"
      ]
     },
     "metadata": {
      "needs_background": "light"
     },
     "output_type": "display_data"
    }
   ],
   "source": [
    "plt.show()\n",
    "x_vis = X.filter(['TempAvgF', 'DewPointAvgF', 'HumidityAvgPercent',\n",
    "                  'SeaLevelPressureAvgInches', 'VisibilityAvgMiles',\n",
    "                  'WindAvgMPH'], axis = 1)\n",
    "  \n",
    "# plot a graph with a few features (x values)\n",
    "# against the precipitation or rainfall to observe\n",
    "# the trends\n",
    "  \n",
    "print(\"Precipitation vs selected attributes graph: \")\n",
    "  \n",
    "for i in range(x_vis.columns.size):\n",
    "    plt.subplot(3, 2, i + 1)\n",
    "    plt.scatter(days, x_vis[x_vis.columns.values[i][:100]],\n",
    "                                               color = 'b')\n",
    "  \n",
    "    plt.scatter(days[day_index], \n",
    "                x_vis[x_vis.columns.values[i]][day_index],\n",
    "                color ='r')\n",
    "  \n",
    "    plt.title(x_vis.columns.values[i])\n",
    "  \n",
    "plt.show()"
   ]
  },
  {
   "cell_type": "code",
   "execution_count": null,
   "id": "d795aee9-3a9d-4142-9ee7-6e74eb511a6e",
   "metadata": {},
   "outputs": [],
   "source": []
  }
 ],
 "metadata": {
  "kernelspec": {
   "display_name": "Python 3 (ipykernel)",
   "language": "python",
   "name": "python3"
  },
  "language_info": {
   "codemirror_mode": {
    "name": "ipython",
    "version": 3
   },
   "file_extension": ".py",
   "mimetype": "text/x-python",
   "name": "python",
   "nbconvert_exporter": "python",
   "pygments_lexer": "ipython3",
   "version": "3.9.7"
  }
 },
 "nbformat": 4,
 "nbformat_minor": 5
}
